from osgeo import gdal ds = gdal.Open('../data/USCOSB20170216_SUPERsnow_depth_50p0m_agg.tif') width = ds.RasterXSize height 
= ds.RasterYSize width = ds.RasterXSize height = ds.RasterYSize gt = ds.GetGeoTransform() minx = gt[0] miny = gt[3] + 
width*gt[4] + height*gt[5] maxx = gt[0] + width*gt[1] + height*gt[2] maxy = gt[3] gt for x in xrange(width):
    x_local_coordinate = minx + (gt[1]*x)
    for y in xrange(height):
        y_local_coordinate = miny + (gt[5]*y)
        new_point = transform.TransformPoint(x_local_coordinate, y_local_coordinate)
        print(new_point)
        
        
from osgeo import osr, gdal
# get the existing coordinate system
ds = gdal.Open('../data/USCOSB20170216_SUPERsnow_depth_50p0m_agg.tif') old_cs= osr.SpatialReference() 
old_cs.ImportFromWkt(ds.GetProjectionRef())
# create the new coordinate system
wgs84_wkt = """ GEOGCS["WGS 84",
    DATUM["WGS_1984",
        SPHEROID["WGS 84",6378137,298.257223563,
            AUTHORITY["EPSG","7030"]],
        AUTHORITY["EPSG","6326"]],
    PRIMEM["Greenwich",0,
        AUTHORITY["EPSG","8901"]],
    UNIT["degree",0.01745329251994328,
        AUTHORITY["EPSG","9122"]],
    AUTHORITY["EPSG","4326"]]""" new_cs = osr.SpatialReference() new_cs .ImportFromWkt(wgs84_wkt)
# create a transform object to convert between coordinate systems
transform = osr.CoordinateTransformation(old_cs,new_cs)
#get the point to transform, pixel (0,0) in this case
width = ds.RasterXSize height = ds.RasterYSize gt = ds.GetGeoTransform() minx = gt[0] miny = gt[3] + width*gt[4] + 
height*gt[5]
#get the coordinates in lat long
latlong = transform.TransformPoint(minx,miny) print(gt) latlong ds.GetProjectionRef() import pygeoprocessing 
pygeoprocessing.warp_raster('../data/USCOSB20170216_SUPERsnow_depth_50p0m_agg.tif',
                            (50,-50),'../data/lat_long_SUPERsnow_depth_50p0m_agg.tif',
                            'nearest',
                           target_sr_wkt=wgs84_wkt)
                           
                           
from matplotlib import pyplot %matplotlib inline 
pyplot.imshow(gdal.Open('../data/USCOSB20170216_SUPERsnow_depth_50p0m_agg.tif').ReadAsArray())
pyplot.colorbar()
